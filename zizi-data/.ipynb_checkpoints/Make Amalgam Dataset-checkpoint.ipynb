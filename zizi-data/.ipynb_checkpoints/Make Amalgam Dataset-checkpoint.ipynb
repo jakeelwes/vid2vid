{
 "cells": [
  {
   "cell_type": "code",
   "execution_count": 42,
   "metadata": {},
   "outputs": [
    {
     "name": "stdout",
     "output_type": "stream",
     "text": [
      "\u001b[0m\u001b[01;34macts\u001b[0m/  \u001b[01;34mamalgam-close\u001b[0m/  \u001b[01;34mamalgam-full\u001b[0m/  \u001b[01;34mlooks\u001b[0m/  \u001b[01;34mscripts\u001b[0m/\r\n"
     ]
    }
   ],
   "source": [
    "ls datasets/"
   ]
  },
  {
   "cell_type": "code",
   "execution_count": 52,
   "metadata": {
    "scrolled": true
   },
   "outputs": [],
   "source": [
    "import glob\n",
    "from shutil import copyfile\n",
    "import os\n",
    "\n",
    "fc = \"full\"\n",
    "c=0\n",
    "dd=\"/train_densepose/\"\n",
    "ex=\"_IUV.png\"\n",
    "\n",
    "for dir in sorted(glob.glob(\"datasets/looks/*-\"+fc)):\n",
    "    for file in sorted(glob.glob(dir+dd+\"*\"))[500:1250]:\n",
    "#         print(file)\n",
    "#         print(os.path.splitext(os.path.basename(file))[0])\n",
    "        copyfile(file, \"datasets/amalgam-\"+fc+dd+str(c).zfill(6)+ex)\n",
    "        c=c+1\n",
    "        \n",
    "\n",
    "\n",
    "# if not os.path.exists(\"datasets/looks/amalgam-close/train_img\"):\n",
    "# os.makedirs(\"datasets/looks/amalgam-full/train_img\")\n",
    "# os.makedirs(\"datasets/looks/amalgam-full/train_densepose\")\n",
    "# os.makedirs(\"datasets/looks/amalgam-full/train_openpose\")\n",
    "# os.makedirs(\"datasets/looks/amalgam-full/train_openpose_img\")\n",
    "    \n",
    "\n",
    "\n"
   ]
  },
  {
   "cell_type": "code",
   "execution_count": 53,
   "metadata": {},
   "outputs": [
    {
     "name": "stdout",
     "output_type": "stream",
     "text": [
      "\u001b[0m\u001b[01;34mclose\u001b[0m/  \u001b[01;34mfull\u001b[0m/\r\n"
     ]
    }
   ],
   "source": [
    "ls datasets/acts/close/test_img/fiveyears-ruby-close/000001.jpg"
   ]
  },
  {
   "cell_type": "code",
   "execution_count": 54,
   "metadata": {},
   "outputs": [
    {
     "name": "stdout",
     "output_type": "stream",
     "text": [
      "datasets/looks/amalgam-close\n",
      "datasets/looks/amalgam-full\n",
      "datasets/looks/bolly-close\n",
      "datasets/looks/bolly-full\n",
      "datasets/looks/cara-close\n",
      "datasets/looks/cara-full\n",
      "datasets/looks/chiyo-close\n",
      "datasets/looks/chiyo-full\n",
      "datasets/looks/dakota-close\n",
      "datasets/looks/dakota-full\n",
      "datasets/looks/lilly-close\n",
      "datasets/looks/lilly-full\n",
      "datasets/looks/luke-close\n",
      "datasets/looks/luke-full\n",
      "datasets/looks/mahatma-close\n",
      "datasets/looks/mahatma-full\n",
      "datasets/looks/mark-close\n",
      "datasets/looks/mark-full\n",
      "datasets/looks/me-close\n",
      "datasets/looks/me-full\n",
      "datasets/looks/pussi-close\n",
      "datasets/looks/pussi-full\n",
      "datasets/looks/ruby-close\n",
      "datasets/looks/ruby-full\n",
      "datasets/looks/sister-close\n",
      "datasets/looks/sister-full\n",
      "datasets/looks/tete-close\n",
      "datasets/looks/tete-full\n"
     ]
    }
   ],
   "source": [
    "for dir in sorted(glob.glob(\"datasets/looks/*\")):\n",
    "    print(dir)\n",
    "    copyfile(\"datasets/acts/close/test_img/fiveyears-ruby-close/000001.jpg\", dir+\"train_img/000001.jpg\")\n",
    "    copyfile(\"datasets/acts/close/test_densepose/fiveyears-ruby-close/000001.jpg\", dir+\"train_densepose/000001.jpg\")\n",
    "    copyfile(\"datasets/acts/close/test_openpose/fiveyears-ruby-close/000001.jpg\", dir+\"train_openpose/000001.jpg\")\n",
    "    copyfile(\"datasets/acts/close/test_openpose_img/fiveyears-ruby-close/000001.jpg\", dir+\"train_openpose_img/000001.jpg\")\n",
    "\n"
   ]
  },
  {
   "cell_type": "code",
   "execution_count": null,
   "metadata": {},
   "outputs": [],
   "source": []
  }
 ],
 "metadata": {
  "kernelspec": {
   "display_name": "Python 3",
   "language": "python",
   "name": "python3"
  },
  "language_info": {
   "codemirror_mode": {
    "name": "ipython",
    "version": 3
   },
   "file_extension": ".py",
   "mimetype": "text/x-python",
   "name": "python",
   "nbconvert_exporter": "python",
   "pygments_lexer": "ipython3",
   "version": "3.6.9"
  }
 },
 "nbformat": 4,
 "nbformat_minor": 4
}
